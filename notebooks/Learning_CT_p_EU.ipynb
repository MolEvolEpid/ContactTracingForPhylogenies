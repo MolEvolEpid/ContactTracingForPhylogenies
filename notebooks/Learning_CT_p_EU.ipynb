{
 "cells": [
  {
   "cell_type": "code",
   "execution_count": 1,
   "metadata": {
    "vscode": {
     "languageId": "r"
    }
   },
   "outputs": [],
   "source": [
    "setwd(\"../src/R/\")"
   ]
  },
  {
   "cell_type": "code",
   "execution_count": 2,
   "metadata": {
    "vscode": {
     "languageId": "r"
    }
   },
   "outputs": [],
   "source": [
    "source(\"./Sampler_EU.R\")"
   ]
  },
  {
   "cell_type": "code",
   "execution_count": 3,
   "metadata": {
    "vscode": {
     "languageId": "r"
    }
   },
   "outputs": [],
   "source": [
    "ie_ref_data <- read.csv(\"../../data/RealDataSplit/ie.rnd20.EU.csv\")\n",
    "sample_years <- read.csv(\"../../data/RealDataSplit/year.eu.csv\")"
   ]
  },
  {
   "cell_type": "code",
   "execution_count": 4,
   "metadata": {
    "vscode": {
     "languageId": "r"
    }
   },
   "outputs": [],
   "source": [
    "ct_p_values <- (0:10)/10\n",
    "nsamples_per <- 2000  # Number of samples per p value\n",
    "pop_sizes <- c(300, 400, 500, 700, 1000)\n",
    "# R0_values <- c(2, 3, 4, 5)\n",
    "# make a data frame to hold the results"
   ]
  },
  {
   "cell_type": "code",
   "execution_count": 5,
   "metadata": {
    "vscode": {
     "languageId": "r"
    }
   },
   "outputs": [],
   "source": [
    "library(foreach)"
   ]
  },
  {
   "cell_type": "code",
   "execution_count": 6,
   "metadata": {
    "vscode": {
     "languageId": "r"
    }
   },
   "outputs": [],
   "source": [
    "library(foreach)\n",
    "my.cluster <- parallel::makeCluster(26, type=\"FORK\")  # adjust number of cores based on your system\n",
    "doParallel::registerDoParallel(cl = my.cluster)"
   ]
  },
  {
   "cell_type": "code",
   "execution_count": 17,
   "metadata": {
    "vscode": {
     "languageId": "r"
    }
   },
   "outputs": [
    {
     "name": "stdout",
     "output_type": "stream",
     "text": [
      "[1] \"../../data/RealDataSplit/metadata.small10a.rnd20.EU.simulated.parquet\"\n"
     ]
    }
   ],
   "source": [
    "nsamples_per <- 200  # Small batch to calibrate\n",
    "state_counter <- \"10a\"  # derived from 10c\n",
    "pop_sizes <- c(500, 550, 600, 650, 700)\n",
    "# pop_sizes <- c(700, 800, 900, 1000)\n",
    "R0_values <- c(2, 2.5, 3, 4, 5, 6)\n",
    "r0_iter <- rep(R0_values, each = length(pop_sizes))\n",
    "ps_iter <- rep(pop_sizes, times = length(R0_values))\n",
    "\n",
    "metadata_table <- data.frame(ps=ps_iter, r0=r0_iter)\n",
    "# This probably doesn't need to be a parquet, but we'll take it anyways\n",
    "names(metadata_table) <- c(\"pop_size\", \"R0\")\n",
    "arrow::write_parquet(metadata_table, paste0(\"../../data/RealDataSplit/metadata.small\", state_counter, \".rnd20.EU.simulated.parquet\"))\n",
    "print(paste0(\"../../data/RealDataSplit/metadata.small\", state_counter, \".rnd20.EU.simulated.parquet\"))\n",
    "\n",
    "\n",
    "result <- foreach (ps = ps_iter, r0 = r0_iter) %dopar% {\n",
    "    set.seed(1947)\n",
    "    si_df <- data.frame()\n",
    "    ei_df <- data.frame()\n",
    "    trees_df <- data.frame()\n",
    "    for (ct_p in ct_p_values) {\n",
    "        si_values = c()\n",
    "        ei_values = c()\n",
    "        # trees <- list()\n",
    "        for (i in 1:nsamples_per) {\n",
    "            # print(i)\n",
    "            # set.seed(i)\n",
    "            invisible(res <- simulate_EU_Thai_HIV(sample_size = 20, ct_p = ct_p, R0=r0,\n",
    "                                        sample_times_data = sample_years$Freq, \n",
    "                                        sample_times_times = sample_years$X, pop_size=ps,\n",
    "                                        l1=2, l2=4, R0_init = 3, stretch=18 * 12, integer_sampling = TRUE))\n",
    "            si_values = c(si_values, res$sackin_index)\n",
    "            if (res$sackin_index <= 88) {\n",
    "                print(c(i, res$sackin_index))\n",
    "            }\n",
    "            ei_values = c(ei_values, res$EIr)\n",
    "            # trees[[i]] <- ape::read.tree(text = res$newick_tree_string)\n",
    "        }\n",
    "        # si_df$ct_p <- si_values\n",
    "        si_df <- rbind(si_df, data.frame(ct_p = rep(ct_p, nsamples_per), si = si_values))\n",
    "        ei_df <- rbind(ei_df, data.frame(ct_p = rep(ct_p, nsamples_per), ei = ei_values))\n",
    "        # trees_df <- rbind(trees_df, data.frame(ct_p = rep(ct_p, nsamples_per), tree = trees))\n",
    "        print(\"X\")\n",
    "        print(c(min(si_values), mean(si_values), max(si_values), var(si_values)))\n",
    "        flush.console()\n",
    "    }\n",
    "\n",
    "    # Using the above two lines as the basic idea, write the data to parquet files for each population size\n",
    "    arrow::write_parquet(si_df, paste0(\"../../data/RealDataSplit/sackin.small\", state_counter, \".rnd20.EU.simulated.\", ps, \".\", r0, \".parquet\"))\n",
    "    arrow::write_parquet(ei_df, paste0(\"../../data/RealDataSplit/ei.small\", state_counter, \".rnd20.EU.simulated.\", ps, \".\", r0, \".parquet\"))\n",
    "}\n"
   ]
  },
  {
   "cell_type": "code",
   "execution_count": 7,
   "metadata": {
    "vscode": {
     "languageId": "r"
    }
   },
   "outputs": [
    {
     "name": "stdout",
     "output_type": "stream",
     "text": [
      "[1] \"../../data/RealDataSplit/metadata.small15a.rnd20.EU.simulated.parquet\"\n"
     ]
    }
   ],
   "source": [
    "nsamples_per <- 200  # Small batch to calibrate\n",
    "state_counter <- \"15a\"  # derived from 10a\n",
    "pop_sizes <- c(600, 700, 800, 900, 1000)\n",
    "# pop_sizes <- c(700, 800, 900, 1000)\n",
    "R0_values <- c(2, 3, 4, 5, 6)\n",
    "r0_iter <- rep(R0_values, each = length(pop_sizes))\n",
    "ps_iter <- rep(pop_sizes, times = length(R0_values))\n",
    "\n",
    "metadata_table <- data.frame(ps=ps_iter, r0=r0_iter)\n",
    "# This probably doesn't need to be a parquet, but we'll take it anyways\n",
    "names(metadata_table) <- c(\"pop_size\", \"R0\")\n",
    "arrow::write_parquet(metadata_table, paste0(\"../../data/RealDataSplit/metadata.small\", state_counter, \".rnd20.EU.simulated.parquet\"))\n",
    "print(paste0(\"../../data/RealDataSplit/metadata.small\", state_counter, \".rnd20.EU.simulated.parquet\"))\n",
    "\n",
    "\n",
    "result <- foreach (ps = ps_iter, r0 = r0_iter) %dopar% {\n",
    "    set.seed(1948)\n",
    "    si_df <- data.frame()\n",
    "    ei_df <- data.frame()\n",
    "    trees_df <- data.frame()\n",
    "    for (ct_p in ct_p_values) {\n",
    "        si_values = c()\n",
    "        ei_values = c()\n",
    "        # trees <- list()\n",
    "        for (i in 1:nsamples_per) {\n",
    "            # print(i)\n",
    "            # set.seed(i)\n",
    "            invisible(res <- simulate_EU_Thai_HIV(sample_size = 20, ct_p = ct_p, R0=r0,\n",
    "                                        sample_times_data = sample_years$Freq, \n",
    "                                        sample_times_times = sample_years$X, pop_size=ps,\n",
    "                                        l1=2, l2=4, R0_init = 5, stretch=18 * 12, integer_sampling = TRUE))\n",
    "            si_values = c(si_values, res$sackin_index)\n",
    "            if (res$sackin_index <= 88) {\n",
    "                print(c(i, res$sackin_index))\n",
    "            }\n",
    "            ei_values = c(ei_values, res$EIr)\n",
    "            # trees[[i]] <- ape::read.tree(text = res$newick_tree_string)\n",
    "        }\n",
    "        # si_df$ct_p <- si_values\n",
    "        si_df <- rbind(si_df, data.frame(ct_p = rep(ct_p, nsamples_per), si = si_values))\n",
    "        ei_df <- rbind(ei_df, data.frame(ct_p = rep(ct_p, nsamples_per), ei = ei_values))\n",
    "        # trees_df <- rbind(trees_df, data.frame(ct_p = rep(ct_p, nsamples_per), tree = trees))\n",
    "        print(\"X\")\n",
    "        print(c(min(si_values), mean(si_values), max(si_values), var(si_values)))\n",
    "        flush.console()\n",
    "    }\n",
    "\n",
    "    # Using the above two lines as the basic idea, write the data to parquet files for each population size\n",
    "    arrow::write_parquet(si_df, paste0(\"../../data/RealDataSplit/sackin.small\", state_counter, \".rnd20.EU.simulated.\", ps, \".\", r0, \".parquet\"))\n",
    "    arrow::write_parquet(ei_df, paste0(\"../../data/RealDataSplit/ei.small\", state_counter, \".rnd20.EU.simulated.\", ps, \".\", r0, \".parquet\"))\n",
    "}\n"
   ]
  },
  {
   "cell_type": "code",
   "execution_count": null,
   "metadata": {
    "vscode": {
     "languageId": "r"
    }
   },
   "outputs": [],
   "source": []
  }
 ],
 "metadata": {
  "kernelspec": {
   "display_name": "R",
   "language": "R",
   "name": "ir"
  },
  "language_info": {
   "codemirror_mode": "r",
   "file_extension": ".r",
   "mimetype": "text/x-r-source",
   "name": "R",
   "pygments_lexer": "r",
   "version": "4.2.2"
  },
  "orig_nbformat": 4
 },
 "nbformat": 4,
 "nbformat_minor": 2
}
