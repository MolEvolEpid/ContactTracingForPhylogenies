{
 "cells": [
  {
   "attachments": {},
   "cell_type": "markdown",
   "metadata": {},
   "source": [
    "First, bring in our libraries."
   ]
  },
  {
   "cell_type": "code",
   "execution_count": 2,
   "metadata": {
    "vscode": {
     "languageId": "r"
    }
   },
   "outputs": [],
   "source": [
    "setwd(\"../src/R/\")"
   ]
  },
  {
   "cell_type": "code",
   "execution_count": 3,
   "metadata": {
    "vscode": {
     "languageId": "r"
    }
   },
   "outputs": [],
   "source": [
    "source(\"./Sampler_SE.R\")"
   ]
  },
  {
   "cell_type": "code",
   "execution_count": 4,
   "metadata": {
    "vscode": {
     "languageId": "r"
    }
   },
   "outputs": [],
   "source": [
    "ie_ref_data_SE <- read.csv(\"../../raw_data/ie.rnd20.SE.csv\")\n",
    "sample_years_SE <- read.csv(\"../../raw_data/year.se.csv\")"
   ]
  },
  {
   "cell_type": "code",
   "execution_count": 5,
   "metadata": {
    "vscode": {
     "languageId": "r"
    }
   },
   "outputs": [],
   "source": [
    "library(foreach)\n",
    "my.cluster <- parallel::makeCluster(24, type=\"FORK\")  # adjust number of cores based on your system\n",
    "doParallel::registerDoParallel(cl = my.cluster)"
   ]
  },
  {
   "attachments": {},
   "cell_type": "markdown",
   "metadata": {},
   "source": [
    "Now we run the simulator."
   ]
  },
  {
   "cell_type": "code",
   "execution_count": 6,
   "metadata": {
    "vscode": {
     "languageId": "r"
    }
   },
   "outputs": [],
   "source": [
    "ct_p_values <- (0:10)/10"
   ]
  },
  {
   "cell_type": "code",
   "execution_count": 7,
   "metadata": {
    "vscode": {
     "languageId": "r"
    }
   },
   "outputs": [],
   "source": [
    "R0_values <- c(2, 3, 4, 5)\n",
    "pop_sizes <- c(25, 30, 40, 50)"
   ]
  },
  {
   "cell_type": "code",
   "execution_count": 28,
   "metadata": {
    "vscode": {
     "languageId": "r"
    }
   },
   "outputs": [
    {
     "name": "stdout",
     "output_type": "stream",
     "text": [
      "[1] \"../../data/RealDataSplit/metadata.small22XLaa.rnd20.SE.simulated.parquet\"\n"
     ]
    }
   ],
   "source": [
    "nsamples_per <- 10000  # Small batches to calibrate\n",
    "\n",
    "state_counter <- \"22XLaa\"\n",
    "\n",
    "r0_iter <- rep(R0_values, each = length(pop_sizes))\n",
    "ps_iter <- rep(pop_sizes, times = length(R0_values))\n",
    "\n",
    "metadata_table <- data.frame(ps=ps_iter, r0=r0_iter)\n",
    "# This probably doesn't need to be a parquet, but we'll take it anyways\n",
    "names(metadata_table) <- c(\"pop_size\", \"R0\")\n",
    "arrow::write_parquet(metadata_table, paste0(\"../../data/RealDataSplit/metadata.small\", state_counter, \".rnd20.SE.simulated.parquet\"))\n",
    "print(paste0(\"../../data/RealDataSplit/metadata.small\", state_counter, \".rnd20.SE.simulated.parquet\"))\n",
    "\n",
    "\n",
    "result <- foreach (ps = ps_iter, r0 = r0_iter) %dopar% {\n",
    "    set.seed(1949)\n",
    "    si_df <- data.frame()\n",
    "    ei_df <- data.frame()\n",
    "    trees_df <- data.frame()\n",
    "    for (ct_p in ct_p_values) {\n",
    "        si_values = c()\n",
    "        ei_values = c()\n",
    "        # trees <- list()\n",
    "        for (i in 1:nsamples_per) {\n",
    "            # print(i)\n",
    "            # set.seed(i)\n",
    "                        invisible(res <- simulate_SE_EU_HIV(sample_size = 20, ct_p = ct_p, R0=r0,\n",
    "                                        sample_times_data = sample_years_SE$Freq, \n",
    "                                        sample_times_times = sample_years_SE$X, pop_size=ps,\n",
    "                                        init_pop_size = 7,\n",
    "                                        l1=12, l2=78, stretch=0, front_ratio = 3, mu_factor=1))\n",
    "            si_values = c(si_values, res$sackin_index)\n",
    "            if (res$sackin_index <= 88) {\n",
    "                print(c(i, res$sackin_index))\n",
    "            }\n",
    "            ei_values = c(ei_values, res$EIr)\n",
    "            # trees[[i]] <- ape::read.tree(text = res$newick_tree_string)\n",
    "        }\n",
    "        # si_df$ct_p <- si_values\n",
    "        si_df <- rbind(si_df, data.frame(ct_p = rep(ct_p, nsamples_per), si = si_values))\n",
    "        ei_df <- rbind(ei_df, data.frame(ct_p = rep(ct_p, nsamples_per), ei = ei_values))\n",
    "        # trees_df <- rbind(trees_df, data.frame(ct_p = rep(ct_p, nsamples_per), tree = trees))\n",
    "        print(\"X\")\n",
    "        print(c(min(si_values), mean(si_values), max(si_values), var(si_values)))\n",
    "        flush.console()\n",
    "    }\n",
    "    arrow::write_parquet(si_df, paste0(\"../../data/RealDataSplit/sackin.small\", state_counter, \".rnd20.SE.simulated.\", ps, \".\", r0, \".parquet\"))\n",
    "    arrow::write_parquet(ei_df, paste0(\"../../data/RealDataSplit/ei.small\", state_counter, \".rnd20.SE.simulated.\", ps, \".\", r0, \".parquet\"))\n",
    "}\n"
   ]
  },
  {
   "cell_type": "code",
   "execution_count": 9,
   "metadata": {
    "vscode": {
     "languageId": "r"
    }
   },
   "outputs": [
    {
     "name": "stdout",
     "output_type": "stream",
     "text": [
      "[1] \"../../data/RealDataSplit/metadata.small25XLaa.rnd20.SE.simulated.parquet\"\n"
     ]
    }
   ],
   "source": [
    "nsamples_per <- 10000  # Small batches to calibrate\n",
    "\n",
    "state_counter <- \"25XLaa\"\n",
    "\n",
    "r0_iter <- rep(R0_values, each = length(pop_sizes))\n",
    "ps_iter <- rep(pop_sizes, times = length(R0_values))\n",
    "\n",
    "metadata_table <- data.frame(ps=ps_iter, r0=r0_iter)\n",
    "# This probably doesn't need to be a parquet, but we'll take it anyways\n",
    "names(metadata_table) <- c(\"pop_size\", \"R0\")\n",
    "arrow::write_parquet(metadata_table, paste0(\"../../data/RealDataSplit/metadata.small\", state_counter, \".rnd20.SE.simulated.parquet\"))\n",
    "print(paste0(\"../../data/RealDataSplit/metadata.small\", state_counter, \".rnd20.SE.simulated.parquet\"))\n",
    "\n",
    "\n",
    "result <- foreach (ps = ps_iter, r0 = r0_iter) %dopar% {\n",
    "    set.seed(1949)\n",
    "    si_df <- data.frame()\n",
    "    ei_df <- data.frame()\n",
    "    trees_df <- data.frame()\n",
    "    for (ct_p in ct_p_values) {\n",
    "        si_values = c()\n",
    "        ei_values = c()\n",
    "        # trees <- list()\n",
    "        for (i in 1:nsamples_per) {\n",
    "            # print(i)\n",
    "            # set.seed(i)\n",
    "                        invisible(res <- simulate_SE_EU_HIV(sample_size = 20, ct_p = ct_p, R0=r0,\n",
    "                                        sample_times_data = sample_years_SE$Freq, \n",
    "                                        sample_times_times = sample_years_SE$X, pop_size=ps,\n",
    "                                        init_pop_size = 7, R0_init = 3,\n",
    "                                        l1=12, l2=78, stretch=0, front_ratio = 3, mu_factor=1))\n",
    "            si_values = c(si_values, res$sackin_index)\n",
    "            if (res$sackin_index <= 88) {\n",
    "                print(c(i, res$sackin_index))\n",
    "            }\n",
    "            ei_values = c(ei_values, res$EIr)\n",
    "            # trees[[i]] <- ape::read.tree(text = res$newick_tree_string)\n",
    "        }\n",
    "        # si_df$ct_p <- si_values\n",
    "        si_df <- rbind(si_df, data.frame(ct_p = rep(ct_p, nsamples_per), si = si_values))\n",
    "        ei_df <- rbind(ei_df, data.frame(ct_p = rep(ct_p, nsamples_per), ei = ei_values))\n",
    "        # trees_df <- rbind(trees_df, data.frame(ct_p = rep(ct_p, nsamples_per), tree = trees))\n",
    "        print(\"X\")\n",
    "        print(c(min(si_values), mean(si_values), max(si_values), var(si_values)))\n",
    "        flush.console()\n",
    "    }\n",
    "    arrow::write_parquet(si_df, paste0(\"../../data/RealDataSplit/sackin.small\", state_counter, \".rnd20.SE.simulated.\", ps, \".\", r0, \".parquet\"))\n",
    "    arrow::write_parquet(ei_df, paste0(\"../../data/RealDataSplit/ei.small\", state_counter, \".rnd20.SE.simulated.\", ps, \".\", r0, \".parquet\"))\n",
    "}\n"
   ]
  }
 ],
 "metadata": {
  "kernelspec": {
   "display_name": "R",
   "language": "R",
   "name": "ir"
  },
  "language_info": {
   "codemirror_mode": "r",
   "file_extension": ".r",
   "mimetype": "text/x-r-source",
   "name": "R",
   "pygments_lexer": "r",
   "version": "4.2.2"
  },
  "orig_nbformat": 4
 },
 "nbformat": 4,
 "nbformat_minor": 2
}
