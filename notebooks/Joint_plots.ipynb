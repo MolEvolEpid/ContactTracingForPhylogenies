{
 "cells": [
  {
   "cell_type": "code",
   "execution_count": 2,
   "metadata": {},
   "outputs": [],
   "source": [
    "import numpy as np\n",
    "import matplotlib.pyplot as plt\n",
    "import pandas as pd\n",
    "import seaborn as sns\n",
    "import scipy\n",
    "# import astropy.stats as astats"
   ]
  },
  {
   "cell_type": "code",
   "execution_count": 3,
   "metadata": {},
   "outputs": [],
   "source": [
    "sns.set_theme()"
   ]
  },
  {
   "cell_type": "markdown",
   "metadata": {},
   "source": [
    "## Utility code"
   ]
  },
  {
   "cell_type": "code",
   "execution_count": 4,
   "metadata": {},
   "outputs": [],
   "source": [
    "def ecdf_factory(data):\n",
    "    def ecdf(y):\n",
    "        return np.asarray([np.sum(data <= x) / len(data) for x in y])\n",
    "    return ecdf\n",
    "\n",
    "def padfn(x, N):\n",
    "    return np.pad(x, (0,max(N,0)), mode=\"constant\", constant_values=0)\n",
    "\n",
    "def entropy_fun(sample_counts, ref_counts):\n",
    "    print(\"X\", sample_counts)\n",
    "    # First, compute ref_counts to a probability distribution\n",
    "    ref_counts = ref_counts / np.sum(ref_counts)\n",
    "    \n",
    "    N = max(len(sample_counts), len(ref_counts))\n",
    "    ref_counts = padfn(ref_counts, N - len(ref_counts))\n",
    "    sample_counts = padfn(sample_counts, N - len(sample_counts))\n",
    "    # print(ref_counts)\n",
    "    print(sample_counts)\n",
    "    summand = 0\n",
    "    for i in range(N):\n",
    "        if sample_counts[i] == 0:\n",
    "            continue\n",
    "        if ref_counts[i] == 0:\n",
    "            continue\n",
    "        summand += sample_counts[i] * np.log(sample_counts[i] / ref_counts[i])\n",
    "    return summand\n"
   ]
  },
  {
   "cell_type": "code",
   "execution_count": 5,
   "metadata": {},
   "outputs": [],
   "source": [
    "def diff_means(sample, ref):\n",
    "    \"\"\" Compute the difference of means of two distributions, with samples\n",
    "    x1 and x2. x1 is the sample data, x2 is the reference data.\n",
    "    \"\"\"\n",
    "    return sample.mean() - ref.mean()\n",
    "\n",
    "def rel_diff_means(sample, ref):\n",
    "    return (sample.mean() - ref.mean()) / ref.mean()\n",
    "\n",
    "def entropy(sample, ref):\n",
    "    return entropy_fun(sample, ref)\n",
    "\n",
    "def ks_stat(sample, ref):\n",
    "    return scipy.stats.ks_2samp(sample, ref).statistic\n",
    "\n",
    "def EP_stat(sample, ref):\n",
    "    return scipy.stats.epps_singleton_2samp(sample, ref).statistic\n",
    "\n",
    "def stdErr(sample, ref):\n",
    "    return np.sqrt(sample.std() / len(sample) + ref.std() / len(ref))\n",
    "\n",
    "def SEM(sample, ref):\n",
    "    return np.sqrt(sample.std() / len(sample) + ref.std() / len(ref))\n",
    "\n",
    "\n",
    "def diff_var(sample, ref):\n",
    "    return sample.var() - ref.var()\n",
    "\n",
    "def diff_skew(sample, ref):\n",
    "    return sample.skew() - ref.skew()\n",
    "\n",
    "def diff_kurtosis(sample, ref):\n",
    "    return sample.kurtosis() - ref.kurtosis()"
   ]
  },
  {
   "cell_type": "markdown",
   "metadata": {},
   "source": [
    "### Data Imports"
   ]
  },
  {
   "cell_type": "code",
   "execution_count": 6,
   "metadata": {},
   "outputs": [],
   "source": [
    "def getData_SE(state_index=\"22XLaa\", state_index2=\"25XLaa\"):\n",
    "    metadata = pd.read_parquet(f\"../../data/RealDataSplit/metadata.small{state_index}.rnd20.SE.simulated.parquet\")\n",
    "    df_si = {}\n",
    "    df_ie = {}\n",
    "\n",
    "    pop_sizes = metadata[\"pop_size\"].unique().astype(int)\n",
    "    R0_values = metadata[\"R0\"].unique().astype(int)\n",
    "\n",
    "    for index, row in metadata.iterrows():\n",
    "        R0 = int(row.R0)\n",
    "        if R0 == row.R0:\n",
    "            # k = k.0\n",
    "            pass\n",
    "        else:\n",
    "            # Can't neglect the decimal part\n",
    "            R0 = row.R0\n",
    "        pop_size = int(row.pop_size)\n",
    "        df_si[pop_size, R0] = pd.read_parquet(f\"../../data/RealDataSplit/sackin.small{state_index}.rnd20.SE.simulated.{pop_size}.{R0}.parquet\")\n",
    "        df_si[pop_size, R0]\n",
    "        df_ie[pop_size, R0] = pd.read_parquet(f\"../../data/RealDataSplit/ei.small{state_index}.rnd20.SE.simulated.{pop_size}.{R0}.parquet\")\n",
    "        if state_index2 is not None:\n",
    "            temp = pd.read_parquet(f\"../../data/RealDataSplit/sackin.small{state_index2}.rnd20.SE.simulated.{pop_size}.{R0}.parquet\")\n",
    "            df_si[pop_size, R0] = pd.concat([df_si[pop_size, R0], temp])\n",
    "            temp = pd.read_parquet(f\"../../data/RealDataSplit/ei.small{state_index2}.rnd20.SE.simulated.{pop_size}.{R0}.parquet\")\n",
    "            df_ie[pop_size, R0] = pd.concat([df_ie[pop_size, R0], temp])\n",
    "\n",
    "    df_si[\"ref\"] = pd.read_csv(\"../../data/RealData_ref/sackin.rnd20.SE.1M.csv\", names = [\"index\", \"Sackin\"], header=0)  \n",
    "    df_ie[\"ref\"] = pd.read_csv(\"../../data/RealData_ref/ie.rnd20.SE.1M.csv\", names = [\"index\", \"EI\"], header=0)\n",
    "    return df_ie, df_si, pop_sizes, R0_values, metadata\n",
    "\n",
    "def getData_EU(state_index=\"12a\", state_index2=\"15a\"):\n",
    "    metadata = pd.read_parquet(f\"../../data/RealDataSplit/metadata.small{state_index}.rnd20.EU.simulated.parquet\")\n",
    "    df_si = {}\n",
    "    df_ie = {}\n",
    "\n",
    "    pop_sizes = metadata[\"pop_size\"].unique().astype(int)\n",
    "    R0_values = metadata[\"R0\"].unique().astype(int)\n",
    "\n",
    "    for index, row in metadata.iterrows():\n",
    "        R0 = int(row.R0)\n",
    "        if R0 == row.R0:\n",
    "            # k = k.0\n",
    "            pass\n",
    "        else:\n",
    "            # Can't neglect the decimal part\n",
    "            R0 = row.R0\n",
    "        pop_size = int(row.pop_size)\n",
    "        df_si[pop_size, R0] = pd.read_parquet(f\"../../data/RealDataSplit/sackin.small{state_index}.rnd20.EU.simulated.{pop_size}.{R0}.parquet\")\n",
    "        df_si[pop_size, R0]\n",
    "        df_ie[pop_size, R0] = pd.read_parquet(f\"../../data/RealDataSplit/ei.small{state_index}.rnd20.EU.simulated.{pop_size}.{R0}.parquet\")\n",
    "        if state_index2 is not None:\n",
    "            temp = pd.read_parquet(f\"../../data/RealDataSplit/sackin.small{state_index2}.rnd20.EU.simulated.{pop_size}.{R0}.parquet\")\n",
    "            df_si[pop_size, R0] = pd.concat([df_si[pop_size, R0], temp])\n",
    "            temp = pd.read_parquet(f\"../../data/RealDataSplit/ei.small{state_index2}.rnd20.EU.simulated.{pop_size}.{R0}.parquet\")\n",
    "            df_ie[pop_size, R0] = pd.concat([df_ie[pop_size, R0], temp])\n",
    "\n",
    "    df_si[\"ref\"] = pd.read_csv(\"../../data/RealData_ref/sackin.rnd20.EU.1M.csv\", names = [\"index\", \"Sackin\"], header=0)  \n",
    "    df_ie[\"ref\"] = pd.read_csv(\"../../data/RealData_ref/ie.rnd20.EU.1M.csv\", names = [\"index\", \"EI\"], header=0)\n",
    "    return df_ie, df_si, pop_sizes, R0_values, metadata"
   ]
  },
  {
   "cell_type": "code",
   "execution_count": 7,
   "metadata": {},
   "outputs": [],
   "source": [
    "df_ie_SE, df_si_SE, pop_sizes_SE, R0_values_SE, metadata_SE = getData_SE()\n",
    "df_ie_EU, df_si_EU, pop_sizes_EU, R0_values_EU, metadata_EU = getData_EU()"
   ]
  },
  {
   "cell_type": "code",
   "execution_count": 8,
   "metadata": {},
   "outputs": [],
   "source": [
    "tests = [diff_means, rel_diff_means, ks_stat, stdErr, diff_skew, diff_kurtosis]  # entropy, \n",
    "keys = [x.__name__ for x in tests]"
   ]
  },
  {
   "cell_type": "markdown",
   "metadata": {},
   "source": [
    "## Aggregated data and testing"
   ]
  },
  {
   "cell_type": "code",
   "execution_count": 9,
   "metadata": {},
   "outputs": [],
   "source": [
    "ct_p_values_EU = np.unique(df_si_EU[pop_sizes_EU[0], R0_values_EU[0]][\"ct_p\"].values)\n",
    "\n",
    "results_ei3_EU = {}\n",
    "index=0\n",
    "for test, key in zip(tests, keys):\n",
    "    results_ei3_EU[key] = {}\n",
    "    for ct_p in ct_p_values_EU:\n",
    "        data = []\n",
    "        for pop_size in pop_sizes_EU:\n",
    "            for R0 in R0_values_EU:\n",
    "                data_temp = df_ie_EU[pop_size, R0][df_ie_EU[pop_size, R0][\"ct_p\"].values == ct_p][\"ei\"].copy()\n",
    "                data.append(data_temp)\n",
    "        data = pd.concat(data)\n",
    "        results_ei3_EU[key][index] = {\"ct_p\": ct_p, \"statistic\": test(data, df_ie_EU[\"ref\"][\"EI\"])}\n",
    "        index += 1\n"
   ]
  },
  {
   "cell_type": "code",
   "execution_count": 10,
   "metadata": {},
   "outputs": [],
   "source": [
    "ct_p_values_SE = np.unique(df_si_SE[pop_sizes_SE[0], R0_values_SE[0]][\"ct_p\"].values)\n",
    "\n",
    "results_ei3_SE = {}\n",
    "index=0\n",
    "for test, key in zip(tests, keys):\n",
    "    results_ei3_SE[key] = {}\n",
    "    for ct_p in ct_p_values_SE:\n",
    "        data = []\n",
    "        for pop_size in pop_sizes_SE:\n",
    "            for R0 in R0_values_SE:\n",
    "                data_temp = df_ie_SE[pop_size, R0][df_ie_SE[pop_size, R0][\"ct_p\"].values == ct_p][\"ei\"].copy()\n",
    "                data.append(data_temp)\n",
    "        data = pd.concat(data)\n",
    "        results_ei3_SE[key][index] = {\"ct_p\": ct_p, \"statistic\": test(data, df_ie_SE[\"ref\"][\"EI\"])}\n",
    "        index += 1"
   ]
  },
  {
   "cell_type": "code",
   "execution_count": 11,
   "metadata": {},
   "outputs": [],
   "source": [
    "results3_ei_SE_ = {}\n",
    "for key in keys:\n",
    "    results3_ei_SE_[key] = pd.DataFrame.from_dict(results_ei3_SE[key]).T\n",
    "\n",
    "results3_ei_EU_ = {}\n",
    "for key in keys:\n",
    "    results3_ei_EU_[key] = pd.DataFrame.from_dict(results_ei3_EU[key]).T"
   ]
  },
  {
   "cell_type": "code",
   "execution_count": 19,
   "metadata": {},
   "outputs": [
    {
     "data": {
      "image/png": "[encoded data removed]",
      "text/plain": [
       "<Figure size 600x600 with 4 Axes>"
      ]
     },
     "metadata": {},
     "output_type": "display_data"
    }
   ],
   "source": [
    "fig, ax = plt.subplots(2, 2, figsize=(6,6), sharey=\"row\", sharex=True)\n",
    "color_codes = [\"k\", \"k\"]\n",
    "suptitle = None  # declare here to avoid scope warning\n",
    "styles = [\"x\", \"+\"]\n",
    "labels = [\"A\", \"B\", \"C\", \"D\"]\n",
    "rdx = 0\n",
    "idx = 0\n",
    "ptr = 0\n",
    "\n",
    "for rdx in range(2):\n",
    "    if rdx == 0:\n",
    "        res = results3_ei_EU_\n",
    "    elif rdx == 1:\n",
    "        res = results3_ei_SE_\n",
    "    else:\n",
    "        raise ValueError(\"rdx must be 0 or 1\")\n",
    "    for idx, series in enumerate([res[\"ks_stat\"], res[\"rel_diff_means\"]]):\n",
    "        x = series[\"ct_p\"].values\n",
    "        y = series[\"statistic\"].values\n",
    "        ax[idx, rdx].scatter(x,y, c=color_codes[rdx], marker=styles[idx])\n",
    "        ax[idx, rdx].text(0.05, 1.1, labels[ptr], transform=ax[idx, rdx].transAxes,\n",
    "                          fontsize=12, va='top', ha='right')\n",
    "        ptr += 1\n",
    "        \n",
    "        ax[idx, rdx].grid(True)\n",
    "        ax[idx, rdx].set_xticks([0, 0.2, 0.4, 0.6, 0.8, 1])\n",
    "        suptitle = fig.suptitle(r\"Contact tracing discovery probability $p$\", y=-0.0, x=0.575,fontsize=12)\n",
    "        ax[1, rdx].set_ylim(-0.2, 0.3)\n",
    "        ax[0, rdx].set_ylim(0, 0.4)\n",
    "        ax[0, 0].set_ylabel(\"KS test statistic\")\n",
    "        ax[1, 0].set_ylabel(\"Relative difference\\n of means\")\n",
    "        ax[0,0].set_title(\"EU data\")\n",
    "        ax[0,1].set_title(\"SE data\")\n",
    "\n",
    "plt.tight_layout()\n",
    "plt.show()\n"
   ]
  },
  {
   "cell_type": "markdown",
   "metadata": {},
   "source": []
  }
 ],
 "metadata": {
  "kernelspec": {
   "display_name": "HIVML2",
   "language": "python",
   "name": "python3"
  },
  "language_info": {
   "codemirror_mode": {
    "name": "ipython",
    "version": 3
   },
   "file_extension": ".py",
   "mimetype": "text/x-python",
   "name": "python",
   "nbconvert_exporter": "python",
   "pygments_lexer": "ipython3",
   "version": "3.10.6"
  },
  "orig_nbformat": 4
 },
 "nbformat": 4,
 "nbformat_minor": 2
}
